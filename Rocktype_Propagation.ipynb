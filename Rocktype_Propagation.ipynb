{
  "nbformat": 4,
  "nbformat_minor": 0,
  "metadata": {
    "colab": {
      "name": "Rocktype Propagation",
      "provenance": [],
      "collapsed_sections": [],
      "toc_visible": true,
      "machine_shape": "hm",
      "include_colab_link": true
    },
    "kernelspec": {
      "name": "python3",
      "display_name": "Python 3"
    },
    "accelerator": "GPU"
  },
  "cells": [
    {
      "cell_type": "markdown",
      "metadata": {
        "id": "view-in-github",
        "colab_type": "text"
      },
      "source": [
        "<a href=\"https://colab.research.google.com/github/lsaif/RockTypePropagation/blob/master/Rocktype_Propagation.ipynb\" target=\"_parent\"><img src=\"https://colab.research.google.com/assets/colab-badge.svg\" alt=\"Open In Colab\"/></a>"
      ]
    },
    {
      "cell_type": "markdown",
      "metadata": {
        "colab_type": "text",
        "id": "tMce8muBqXQP"
      },
      "source": [
        "## **Rocktype Propagation**"
      ]
    },
    {
      "cell_type": "markdown",
      "metadata": {
        "id": "6Ko91ocTxfB4",
        "colab_type": "text"
      },
      "source": [
        "####**Github repo setup**"
      ]
    },
    {
      "cell_type": "code",
      "metadata": {
        "colab_type": "code",
        "id": "jBkY9hcsYr1L",
        "colab": {}
      },
      "source": [
        "from os.path import join  \n",
        "from google.colab import drive\n",
        "\n",
        "ROOT=\"/content/drive\"\n",
        "drive.mount(ROOT)\n",
        "\n",
        "MY_GOOGLE_DRIVE_PATH = 'My Drive/' \n",
        "GIT_USERNAME = \"lsaif\" \n",
        "GIT_TOKEN = \"3508092900c8ef7a64b1a8bf0205a601356b340a\"  \n",
        "GIT_REPOSITORY = \"RockTypePropagation\" \n",
        "\n",
        "PROJECT_PATH = join(ROOT, MY_GOOGLE_DRIVE_PATH)\n",
        "\n",
        "GIT_PATH = \"https://\" + GIT_TOKEN + \"@github.com/\" + GIT_USERNAME + \"/\" + GIT_REPOSITORY + \".git\"\n",
        "%cd \"{PROJECT_PATH}\" \n",
        "!git clone \"{GIT_PATH}\" "
      ],
      "execution_count": 0,
      "outputs": []
    },
    {
      "cell_type": "code",
      "metadata": {
        "id": "nPCwdni-zkhS",
        "colab_type": "code",
        "colab": {}
      },
      "source": [
        "!git branch"
      ],
      "execution_count": 0,
      "outputs": []
    },
    {
      "cell_type": "markdown",
      "metadata": {
        "id": "cEZPNmk2y5zc",
        "colab_type": "text"
      },
      "source": [
        "####**Installer**"
      ]
    },
    {
      "cell_type": "code",
      "metadata": {
        "id": "A5twrhKJy3GN",
        "colab_type": "code",
        "outputId": "6c14ae4d-68ec-4fd9-886e-65442d3d9afa",
        "colab": {
          "base_uri": "https://localhost:8080/",
          "height": 36
        }
      },
      "source": [
        "!pip install -q git+https://github.com/tensorflow/docs"
      ],
      "execution_count": 0,
      "outputs": [
        {
          "output_type": "stream",
          "text": [
            "  Building wheel for tensorflow-docs (setup.py) ... \u001b[?25l\u001b[?25hdone\n"
          ],
          "name": "stdout"
        }
      ]
    },
    {
      "cell_type": "markdown",
      "metadata": {
        "id": "Vo6LW-4gNTrX",
        "colab_type": "text"
      },
      "source": [
        "####**Authenticate to access Google Drive**"
      ]
    },
    {
      "cell_type": "code",
      "metadata": {
        "id": "Bu7mJjFddzBM",
        "colab_type": "code",
        "colab": {}
      },
      "source": [
        "from pydrive.auth import GoogleAuth\n",
        "from pydrive.drive import GoogleDrive\n",
        "from google.colab import auth\n",
        "from oauth2client.client import GoogleCredentials\n",
        "auth.authenticate_user()\n",
        "gauth = GoogleAuth()\n",
        "gauth.credentials = GoogleCredentials.get_application_default()\n",
        "drive = GoogleDrive(gauth)"
      ],
      "execution_count": 0,
      "outputs": []
    },
    {
      "cell_type": "markdown",
      "metadata": {
        "id": "BHjaOljgcYqp",
        "colab_type": "text"
      },
      "source": [
        "####**Import supporting libraries**"
      ]
    },
    {
      "cell_type": "code",
      "metadata": {
        "colab_type": "code",
        "id": "sXnDmXR7RDr2",
        "outputId": "6796a38f-3ff3-4616-f864-c310982e76ba",
        "colab": {
          "base_uri": "https://localhost:8080/",
          "height": 73
        }
      },
      "source": [
        "import sys\n",
        "import numpy as np\n",
        "import pandas as pd\n",
        "import seaborn as sns\n",
        "import matplotlib.pyplot as plt\n",
        "from os import listdir\n",
        "from sklearn import model_selection\n",
        "from sklearn.model_selection import KFold\n",
        "from sklearn import linear_model\n",
        "from sklearn.preprocessing import StandardScaler, label_binarize\n",
        "from sklearn.linear_model import SGDClassifier\n",
        "from sklearn.ensemble import RandomForestClassifier\n",
        "import torch\n",
        "from torch import nn\n",
        "from torch import optim\n",
        "from torch.utils.data import TensorDataset, DataLoader\n",
        "from torchvision import transforms\n",
        "from tensorflow.keras.models import Sequential\n",
        "from tensorflow.keras.layers import Dense, Dropout\n",
        "from keras.optimizers import SGD, adam\n",
        "import tensorflow as tf\n",
        "import tensorflow_docs as tfdocs\n",
        "import tensorflow_docs.plots\n",
        "import tensorflow_docs.modeling\n",
        "import timeit\n",
        "\n",
        "np.set_printoptions(threshold=sys.maxsize)\n",
        "pd.set_option('display.max_rows', None)\n",
        "pd.set_option('display.max_columns', None)\n",
        "pd.set_option('display.width', None)\n",
        "\n",
        "tf.keras.backend.clear_session()\n",
        "\n",
        "print(\"Eager mode: \", tf.executing_eagerly())\n",
        "device_name = tf.test.gpu_device_name()\n",
        "if device_name != '/device:GPU:0':\n",
        "  raise SystemError('GPU device not found')\n",
        "print('Found GPU at: {}'.format(device_name))\n",
        "print('Cuda:',torch.cuda.is_available())\n",
        "device = torch.device(\"cuda:0\" if torch.cuda.is_available() else \"cpu\")"
      ],
      "execution_count": 0,
      "outputs": [
        {
          "output_type": "stream",
          "text": [
            "Eager mode:  True\n",
            "Found GPU at: /device:GPU:0\n",
            "Cuda: True\n"
          ],
          "name": "stdout"
        }
      ]
    },
    {
      "cell_type": "markdown",
      "metadata": {
        "colab_type": "text",
        "id": "v3fE7KmKRDsH"
      },
      "source": [
        "####**Data Loading**"
      ]
    },
    {
      "cell_type": "code",
      "metadata": {
        "colab_type": "code",
        "id": "Y04m-jvKRDsJ",
        "outputId": "9842ef66-6aa7-485e-dd33-9eca5dfad628",
        "colab": {
          "base_uri": "https://localhost:8080/",
          "height": 298
        }
      },
      "source": [
        "def LoadData(url,filename):\n",
        "  fluff, id = url.split('=')\n",
        "  downloaded = drive.CreateFile({'id':id}) \n",
        "  downloaded.GetContentFile(filename)\n",
        "  return filename\n",
        "\n",
        "LoadData(url=\"https://drive.google.com/open?id=1JAc9PfGK0b4IrtRkv7m5o2yhD8P_bb9t\", filename=\"hfu_data.csv\")\n",
        "dset = pd.read_csv(\"hfu_data.csv\", sep=';').set_index('Well')\n",
        "print(dset.head(5))\n",
        "dset = dset.dropna()\n",
        "#sns.pairplot(dset[[\"GR\", \"NPHI\", \"RHOB\", \"ILD\", \"PHIE\", \"SWE\", \"HFU\"]], diag_kind=\"kde\")"
      ],
      "execution_count": 0,
      "outputs": [
        {
          "output_type": "stream",
          "text": [
            "             Depth     Por   Perm  Fasies_enc  Fasies  HFU        GR  \\\n",
            "Well                                                                   \n",
            "JTB-047  2425.2936  0.0436  0.020           2  LITHIC    9  159.8818   \n",
            "JTB-047  2425.5984  0.0557  0.080           2  LITHIC   10  145.3258   \n",
            "JTB-048  2001.5456  0.1649  0.140           2  LITHIC    7  193.9869   \n",
            "JTB-048  2001.6980  0.1649  0.140           2  LITHIC    7  193.9899   \n",
            "JTB-051  2196.6374  0.0486  2.883           3    LAVA   14   85.0744   \n",
            "\n",
            "             NPHI      RHOB     ILD     PROX      PHIE       SWE  \n",
            "Well                                                              \n",
            "JTB-047  0.169437  2452.768  6.8167  19.4682  0.134611  0.966523  \n",
            "JTB-047  0.173898  2423.823  6.7381  21.6627  0.145651  0.899416  \n",
            "JTB-048  0.265260  2367.800  4.0185  12.8280  0.195563  0.837456  \n",
            "JTB-048  0.256040  2371.300  4.0252   7.2460  0.199310  0.823007  \n",
            "JTB-051  0.156100  2483.100  4.4219   3.4980  0.115553  1.000000  \n"
          ],
          "name": "stdout"
        }
      ]
    },
    {
      "cell_type": "code",
      "metadata": {
        "id": "7lutzRnKriQb",
        "colab_type": "code",
        "colab": {}
      },
      "source": [
        "dset.describe()"
      ],
      "execution_count": 0,
      "outputs": []
    },
    {
      "cell_type": "markdown",
      "metadata": {
        "id": "l80AJnKqhTLX",
        "colab_type": "text"
      },
      "source": [
        "####**Pre-processing**"
      ]
    },
    {
      "cell_type": "code",
      "metadata": {
        "id": "Cjo3ImqLhVxw",
        "colab_type": "code",
        "outputId": "68ac3dfe-7cdb-4201-c5a4-cd629b00f35f",
        "colab": {
          "base_uri": "https://localhost:8080/",
          "height": 260
        }
      },
      "source": [
        "db = dset[['GR','ILD','PROX','HFU']].copy()\n",
        "X = db.iloc[:,0:3].values\n",
        "Y = db.iloc[:,-1].values\n",
        "Y = label_binarize(Y, classes=[0,1,2,3,4,5, 6, 7, 8, 9, 10, 11, 12, 13, 14, 15, 16])\n",
        "test = 0.20\n",
        "seed = 0\n",
        "X_train, X_test, Y_train, Y_test = model_selection.train_test_split(X, Y, test_size=test, random_state=seed)\n",
        "\n",
        "#scaler = StandardScaler()\n",
        "#X_train = scaler.fit_transform(X_train)\n",
        "#X_test = scaler.transform(X_test)\n",
        "print (Y_test)"
      ],
      "execution_count": 0,
      "outputs": [
        {
          "output_type": "stream",
          "text": [
            "[[0 0 0 0 0 1 0 0 0 0 0 0 0 0 0 0 0]\n",
            " [0 0 0 0 0 0 1 0 0 0 0 0 0 0 0 0 0]\n",
            " [0 0 0 0 0 0 0 1 0 0 0 0 0 0 0 0 0]\n",
            " [0 0 0 0 0 0 0 0 1 0 0 0 0 0 0 0 0]\n",
            " [0 0 0 0 0 0 0 0 1 0 0 0 0 0 0 0 0]\n",
            " [0 0 0 0 0 0 1 0 0 0 0 0 0 0 0 0 0]\n",
            " [0 0 0 0 0 0 0 1 0 0 0 0 0 0 0 0 0]\n",
            " [0 0 0 0 0 0 0 0 0 0 0 0 1 0 0 0 0]\n",
            " [0 0 0 0 0 0 0 1 0 0 0 0 0 0 0 0 0]\n",
            " [0 0 0 0 0 0 0 0 1 0 0 0 0 0 0 0 0]\n",
            " [0 0 0 0 0 1 0 0 0 0 0 0 0 0 0 0 0]\n",
            " [0 0 0 0 0 0 0 0 0 0 0 0 0 0 1 0 0]\n",
            " [0 0 0 0 0 0 0 0 1 0 0 0 0 0 0 0 0]]\n"
          ],
          "name": "stdout"
        }
      ]
    },
    {
      "cell_type": "markdown",
      "metadata": {
        "id": "I75bjbHDhavP",
        "colab_type": "text"
      },
      "source": [
        "####**Model**"
      ]
    },
    {
      "cell_type": "code",
      "metadata": {
        "id": "9nEm12Jjhc_m",
        "colab_type": "code",
        "colab": {}
      },
      "source": [
        "def ModelAnn():\n",
        "  classifier = Sequential([\n",
        "                           Dense(3, activation = 'relu', input_dim=3),\n",
        "                           #Dense(35,activation = 'relu'),\n",
        "                           Dense(17, activation='softmax'),\n",
        "                           #Dropout(0.2)                     \n",
        "        ])\n",
        "  lr = 0.1\n",
        "  decay = 0.0001\n",
        "  momentum = 0.75\n",
        "  sgd= SGD(lr=lr, momentum=momentum, decay=decay,nesterov=False)\n",
        "  adm = adam(lr=lr,decay=decay)\n",
        "  classifier.compile(optimizer='adam', loss='categorical_crossentropy', metrics=['accuracy','mae','msle'])\n",
        "  return classifier\n",
        "\n",
        "def ModelLinear():\n",
        "  classifier = linear_model.SGDClassifier(loss='huber', penalty='elasticnet', verbose=1)\n",
        "  return classifier\n",
        "  \n",
        "def ModelRF():\n",
        "        classifier = RandomForestClassifier(n_estimators=100, random_state=seed, n_jobs=-1, verbose=1)\n",
        "        return classifier"
      ],
      "execution_count": 0,
      "outputs": []
    },
    {
      "cell_type": "markdown",
      "metadata": {
        "id": "0uduVoDshhiD",
        "colab_type": "text"
      },
      "source": [
        "####**Train, test, predict**"
      ]
    },
    {
      "cell_type": "code",
      "metadata": {
        "id": "8y7wtObkhmnB",
        "colab_type": "code",
        "colab": {}
      },
      "source": [
        "#classifier = KerasClassifier(build_fn=ModelAnn, epochs=300, batch_size=5, verbose=1)\n",
        "classifier = ModelAnn()\n",
        "#with tf.device('/cpu:0'):\n",
        "def fitmodel():\n",
        "  with tf.device('/device:GPU:0'):\n",
        "    history = classifier.fit(X_train, Y_train, validation_split=0.2, epochs=300, batch_size=5, verbose=1)\n",
        "    Y_predict = classifier.predict(X_test)\n",
        "    return history, Y_predict\n",
        "\n",
        "history, Y_predict = fitmodel()\n",
        "\n",
        "print('GPU (s):')\n",
        "#cpu_time = timeit.timeit('fitmodel()', number=1, setup=\"from __main__ import fitmodel\")\n",
        "#print(cpu_time)"
      ],
      "execution_count": 0,
      "outputs": []
    },
    {
      "cell_type": "code",
      "metadata": {
        "id": "QcZTYaASQSL-",
        "colab_type": "code",
        "outputId": "0c723851-433e-499c-e0ec-7ef170c88866",
        "colab": {
          "base_uri": "https://localhost:8080/",
          "height": 51
        }
      },
      "source": [
        "print(Y_predict.argmax(1))\n",
        "print(Y_test.argmax(1))"
      ],
      "execution_count": 0,
      "outputs": [
        {
          "output_type": "stream",
          "text": [
            "[ 7  5  7  7  6  7 10 13  7 10  7  8  8]\n",
            "[ 5  6  7  8  8  6  7 12  7  8  5 14  8]\n"
          ],
          "name": "stdout"
        }
      ]
    },
    {
      "cell_type": "markdown",
      "metadata": {
        "id": "fkyMzBfrdfBI",
        "colab_type": "text"
      },
      "source": [
        "####Train, test, predict - Torch"
      ]
    },
    {
      "cell_type": "code",
      "metadata": {
        "id": "mwXnoLKqoPow",
        "colab_type": "code",
        "colab": {}
      },
      "source": [
        "transform = transforms.Compose([transforms.ToTensor(),\n",
        "                                transforms.Normalize((0.5,), (0.5,))])\n",
        "\n",
        "X_train = torch.from_numpy(X_train).float().to(device)\n",
        "Y_train = torch.from_numpy(Y_train).to(device)\n",
        "X_test = torch.from_numpy(X_test).float().to(device)\n",
        "Y_test = torch.from_numpy(Y_test).to(device)\n",
        "\n",
        "trainset = TensorDataset(X_train, Y_train)\n",
        "trainloader = DataLoader(trainset, batch_size=64, shuffle=True)\n",
        "\n",
        "testset = TensorDataset(X_test, Y_test)\n",
        "testloader = DataLoader(testset, batch_size=64, shuffle=True)"
      ],
      "execution_count": 0,
      "outputs": []
    },
    {
      "cell_type": "code",
      "metadata": {
        "id": "LgrWBxiedOCr",
        "colab_type": "code",
        "colab": {}
      },
      "source": [
        "model = nn.Sequential(nn.Linear(3, 128),\n",
        "                      nn.ReLU(),\n",
        "                      nn.Linear(128, 17),\n",
        "                      nn.LogSoftmax(dim=1))\n",
        "\n",
        "model.cuda()\n",
        "Xtrain, Ytrain = next(iter(trainloader))\n",
        "\n",
        "criterion = nn.NLLLoss()\n",
        "optimizer = optim.SGD(model.parameters(),lr= 0.01)\n",
        "epoch = 20\n",
        "loss_ = []\n",
        "loss_test = []\n",
        "for i in range(epoch):\n",
        "    running_loss = 0\n",
        "    for Xtrain, Ytrain in trainloader:\n",
        "        optimizer.zero_grad()\n",
        "        output = model(Xtrain)\n",
        "        loss = criterion(output,Ytrain)\n",
        "        loss.backward()\n",
        "        optimizer.step()\n",
        "        running_loss += loss.item()\n",
        "    else:\n",
        "        #print(f\"Training loss: {running_loss/len(trainloader)}\")\n",
        "        with torch.no_grad():\n",
        "          logps = model(X_test)\n",
        "        predict = torch.exp(logps)\n",
        "        loss_test.append(criterion(predict,Y_test).cpu().numpy())\n",
        "        loss_.append(running_loss/len(trainloader))"
      ],
      "execution_count": 0,
      "outputs": []
    },
    {
      "cell_type": "code",
      "metadata": {
        "id": "FvuCrMm80Mwm",
        "colab_type": "code",
        "colab": {}
      },
      "source": [
        "with torch.no_grad():\n",
        "    logps = model(X_test)\n",
        "predict = torch.exp(logps)\n",
        "loss_test = criterion(predict,Y_test).cpu().numpy()\n",
        "print(loss_test,' ',predict)"
      ],
      "execution_count": 0,
      "outputs": []
    },
    {
      "cell_type": "code",
      "metadata": {
        "id": "5DHICefhybGB",
        "colab_type": "code",
        "outputId": "9b73dfb9-13e8-4083-c40f-e1cd191c548e",
        "colab": {
          "base_uri": "https://localhost:8080/",
          "height": 284
        }
      },
      "source": [
        "plt.plot(range(epoch),loss_,label=\"training set\")\n",
        "plt.plot(range(epoch),loss_test,label=\"test set\")\n",
        "plt.legend()"
      ],
      "execution_count": 0,
      "outputs": [
        {
          "output_type": "execute_result",
          "data": {
            "text/plain": [
              "<matplotlib.legend.Legend at 0x7fae1accdd30>"
            ]
          },
          "metadata": {
            "tags": []
          },
          "execution_count": 26
        },
        {
          "output_type": "display_data",
          "data": {
            "image/png": "[encoded data removed]",
            "text/plain": [
              "<Figure size 432x288 with 1 Axes>"
            ]
          },
          "metadata": {
            "tags": [],
            "needs_background": "light"
          }
        }
      ]
    },
    {
      "cell_type": "markdown",
      "metadata": {
        "id": "S13YlZ2gifGk",
        "colab_type": "text"
      },
      "source": [
        "####**Check**"
      ]
    },
    {
      "cell_type": "code",
      "metadata": {
        "id": "j181RK5JijJE",
        "colab_type": "code",
        "outputId": "1bd3b5ff-82f4-4fb0-8f7b-a850b3c5fe3c",
        "colab": {
          "base_uri": "https://localhost:8080/",
          "height": 283
        }
      },
      "source": [
        "plt.scatter(Y_test.argmax(1), Y_predict.argmax(1))\n",
        "plt.xlabel('HFU')\n",
        "plt.ylabel('Predictions')\n",
        "lims = [0, 16]\n",
        "plt.xlim(lims)\n",
        "plt.ylim(lims)\n",
        "_ = plt.plot(lims, lims)\n",
        "\n",
        "from sklearn.metrics import confusion_matrix, accuracy_score\n",
        "#cm = confusion_matrix(Y_test, Y_predict)\n",
        "acc = accuracy_score(Y_test.argmax(1), Y_predict.argmax(1))\n",
        "#print(cm)\n",
        "#print(acc)"
      ],
      "execution_count": 0,
      "outputs": [
        {
          "output_type": "display_data",
          "data": {
            "image/png": "[encoded data removed]",
            "text/plain": [
              "<Figure size 432x288 with 1 Axes>"
            ]
          },
          "metadata": {
            "tags": []
          }
        }
      ]
    },
    {
      "cell_type": "markdown",
      "metadata": {
        "id": "fH5YvwLgX-y8",
        "colab_type": "text"
      },
      "source": [
        "####**History**"
      ]
    },
    {
      "cell_type": "code",
      "metadata": {
        "id": "A9upRDDJYA--",
        "colab_type": "code",
        "outputId": "0c37514f-e80b-4866-da09-99c970960215",
        "colab": {
          "base_uri": "https://localhost:8080/",
          "height": 302
        }
      },
      "source": [
        "hist = pd.DataFrame(history.history)\n",
        "hist['epoch'] = history.epoch\n",
        "hist.tail(5)\n",
        "plotter = tfdocs.plots.HistoryPlotter(smoothing_std=2)\n",
        "plotter.plot({'Basic': history}, metric = 'accuracy')\n",
        "plt.ylim([0, 1])\n",
        "plt.ylabel('Loss')"
      ],
      "execution_count": 0,
      "outputs": [
        {
          "output_type": "execute_result",
          "data": {
            "text/plain": [
              "Text(0, 0.5, 'Loss')"
            ]
          },
          "metadata": {
            "tags": []
          },
          "execution_count": 53
        },
        {
          "output_type": "display_data",
          "data": {
            "image/png": "[encoded data removed]",
            "text/plain": [
              "<Figure size 432x288 with 1 Axes>"
            ]
          },
          "metadata": {
            "tags": [],
            "needs_background": "light"
          }
        }
      ]
    },
    {
      "cell_type": "markdown",
      "metadata": {
        "id": "RtLK7P9el3bu",
        "colab_type": "text"
      },
      "source": [
        "####**Propagation**"
      ]
    },
    {
      "cell_type": "code",
      "metadata": {
        "id": "bzbsJJ7YCfxG",
        "colab_type": "code",
        "colab": {}
      },
      "source": [
        "LoadData(url=\"https://drive.google.com/open?id=101yfKa9jPW3umaUpi9SXzgvQqzQA4Zf5\", filename=\"wire_jtb_hfu.csv\")\n",
        "wire = pd.read_csv(\"wire_jtb_hfu.csv\", sep=';').set_index('WELL')\n",
        "LoadData(url=\"https://drive.google.com/open?id=1WHGb8A7J53eDeJtrGY59VNoR5i3JgoKL\", filename=\"efac.csv\")\n",
        "efac = pd.read_csv(\"efac.csv\", sep=';').set_index('WELL')\n",
        "\n",
        "data = wire.merge(efac, how='right', left_on=['WELL','DEPTH'], right_on=['WELL','DEPTH'])\n",
        "data = data.dropna()\n",
        "print(data.head(5))"
      ],
      "execution_count": 0,
      "outputs": []
    },
    {
      "cell_type": "code",
      "metadata": {
        "id": "uLeBUsUMl7t7",
        "colab_type": "code",
        "colab": {}
      },
      "source": [
        "X_data = data.iloc[:,[1,2,4,6]]\n",
        "Y_data = classifier.predict(X_data).argmax(1)\n",
        "print(X_data.head(5))\n",
        "prediction = data\n",
        "prediction['HFU_PRED'] = Y_data\n",
        "prediction.to_csv('HFU_pred.csv', sep=',')\n",
        "from google.colab import drive\n",
        "drive.mount('drive')\n",
        "!cp HFU_pred.csv \"drive/My Drive/Colab Notebooks\""
      ],
      "execution_count": 0,
      "outputs": []
    },
    {
      "cell_type": "markdown",
      "metadata": {
        "id": "cnqPrU-z0dAa",
        "colab_type": "text"
      },
      "source": [
        "####**Commit to Github**"
      ]
    },
    {
      "cell_type": "code",
      "metadata": {
        "id": "XO0BiRRC0fUZ",
        "colab_type": "code",
        "colab": {}
      },
      "source": [
        "%cd \"{PROJECT_PATH}\"\n",
        "%cd \"{GIT_REPOSITORY}\" \n",
        "!git add .\n",
        "!git commit -m \"add from Google Colab\"\n",
        "!git config --global user.email \"luthfi@geodin.net\"\n",
        "!git config --global user.name \"lsaif\"\n",
        "!git push -u origin master"
      ],
      "execution_count": 0,
      "outputs": []
    }
  ]
}